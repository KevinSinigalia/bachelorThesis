{
 "cells": [
  {
   "cell_type": "markdown",
   "id": "824985e0-f56f-4fea-9c1e-651c0c8b040f",
   "metadata": {},
   "source": [
    "# Subnetwork PCMCI+ example"
   ]
  },
  {
   "cell_type": "markdown",
   "id": "a42b517b-354e-482e-bd3b-e59848700461",
   "metadata": {},
   "source": [
    "## Setup"
   ]
  },
  {
   "cell_type": "code",
   "execution_count": 1,
   "id": "93c0fe41-0e43-433e-81e9-73ed1be83044",
   "metadata": {
    "tags": []
   },
   "outputs": [],
   "source": [
    "import glob\n",
    "import os\n",
    "import subprocess\n",
    "import pickle as cPickle\n",
    "import ast\n",
    "import matplotlib\n",
    "from matplotlib import pyplot as plt\n",
    "import matplotlib.image as mpimg\n",
    "%matplotlib inline\n",
    "import pickle\n",
    "## use `%matplotlib notebook` for interactive figures\n",
    "# plt.style.use('ggplot')\n",
    "import numpy as np\n",
    "import sklearn\n",
    "import tigramite\n",
    "from tigramite import data_processing as pp\n",
    "from tigramite import plotting as tp\n",
    "from tigramite.pcmci import PCMCI\n",
    "from tigramite.independence_tests.parcorr import ParCorr\n",
    "import pandas as pd\n",
    "import seaborn as sns\n"
   ]
  },
  {
   "cell_type": "code",
   "execution_count": 2,
   "id": "5c06848c-d533-4219-8dd7-8fc596a739b9",
   "metadata": {
    "tags": []
   },
   "outputs": [],
   "source": [
    "#path depending on timebin\n",
    "pca_res_path=\"./c-transfer\"\n",
    "pcmci_res_path=\"./output\"\n",
    "f1_scores_path=\"./output_f1-scores/subnetwork\"\n",
    "model_names=['ACCESS-CM2', 'BCC-CSM2-MR', 'CanESM5', 'CESM2', 'CNRM-CM6-1', 'EC-Earth3', 'HadGEM3-GC31-LL', 'IPSL-CM6A-LR', 'MIROC-ES2L',\n",
    "             'MPI-ESM1-2-HR', 'UKESM1-0-LL']\n"
   ]
  },
  {
   "cell_type": "code",
   "execution_count": 3,
   "id": "b01d9a22-0793-466d-b18d-16229acaaf0d",
   "metadata": {
    "tags": []
   },
   "outputs": [],
   "source": [
    "related_models=[]\n",
    "related_models.append((0, 6, 10))\n",
    "related_models.append((1,))\n",
    "related_models.append((2,))\n",
    "related_models.append((3,))\n",
    "related_models.append((4,))\n",
    "related_models.append((5,))\n",
    "related_models.append((0, 6, 10))\n",
    "related_models.append((7,))\n",
    "related_models.append((8,))\n",
    "related_models.append((9,))\n",
    "related_models.append((0, 6, 10))"
   ]
  },
  {
   "cell_type": "code",
   "execution_count": 4,
   "id": "5c37c5e6-0126-4134-8cf4-aec82ff17642",
   "metadata": {
    "tags": []
   },
   "outputs": [],
   "source": [
    "f1Scores={}\n",
    "f1ScoresLinks={}\n",
    "links={}\n",
    "for file in os.listdir(f1_scores_path):\n",
    "    f1_scores_single_path=os.path.join(f1_scores_path, file)\n",
    "    f1_scores_single=pickle.load(open(f1_scores_single_path,\"rb\"))\n",
    "    pc_alpha=f1_scores_single['pc_alpha']\n",
    "    n_kept_comp=f1_scores_single['n_kept_comp']\n",
    "    if 'selected_comps' in f1_scores_single.keys():\n",
    "        selected_comps=f1_scores_single['selected_comps']\n",
    "    else:\n",
    "        selected_comps=f1_scores_single['selected_komps']        \n",
    "    treshold=f1_scores_single['treshold']\n",
    "    links[treshold]=f1_scores_single['links']\n",
    "    f1Scores[(pc_alpha, n_kept_comp, str(selected_comps), treshold)]=f1_scores_single['f1Scores']  \n",
    "    f1ScoresLinks[(pc_alpha, n_kept_comp, str(selected_comps), treshold)]=(f1_scores_single['f1Scores'], f1_scores_single['links'])"
   ]
  },
  {
   "cell_type": "code",
   "execution_count": 5,
   "id": "715cba6c-c818-43cd-8509-2af148cd235a",
   "metadata": {
    "tags": []
   },
   "outputs": [],
   "source": [
    "f1Scores_={} #f1Scores sortiert bzw. die einträge der keys sortiert nach alpha_value\n",
    "for key in f1Scores:\n",
    "    scores=f1Scores[key]\n",
    "    tempList={}\n",
    "    for element in scores:\n",
    "        for key2 in element:\n",
    "            tempList[key2]=element[key2]\n",
    "    sorted_dict = dict(sorted(tempList.items()))\n",
    "    f1Scores_[key]=sorted_dict\n",
    "    "
   ]
  },
  {
   "cell_type": "code",
   "execution_count": 6,
   "id": "c1bb9d2a-9c23-4f99-bcb6-f0fa4f297fbd",
   "metadata": {
    "tags": []
   },
   "outputs": [],
   "source": [
    "avg_f1_scores_models={} #avg F1-Score for each refModel F1-Matrix\n",
    "for key in f1Scores_:\n",
    "    scores=f1Scores_[key]\n",
    "    avg_f1_scores_models.setdefault(key, {})\n",
    "    for key2 in scores:\n",
    "        avg_f1_scores_models[key][key2]=np.nanmean(scores[key2], axis=(2, 3)) #also avg f1 score für key1=pc_alpha und key2=refDataSet, avg F1-Score pro Model"
   ]
  },
  {
   "cell_type": "code",
   "execution_count": 7,
   "id": "7ad5cb85-12fc-4e7a-a05c-fb4150d5b3a5",
   "metadata": {},
   "outputs": [],
   "source": [
    "#metric1 for all refDatasets. Returns average f1-score-metric1-distance for all refDatasets\n",
    "def metric1(f1scores): #f14d matrix\n",
    "    result=[]\n",
    "    for i,refDataset in enumerate(f1scores):\n",
    "        scores=f1scores[i]\n",
    "        min_scores=[]\n",
    "        max_scores=[]\n",
    "        for element in scores:\n",
    "            arr=np.array(element)\n",
    "            min_scores.append(np.nanmin(arr))\n",
    "            max_scores.append(np.nanmax(arr))\n",
    "        result.append(np.mean(np.subtract(max_scores, min_scores)))\n",
    "    return result"
   ]
  },
  {
   "cell_type": "code",
   "execution_count": 8,
   "id": "5fef4d8f-f554-4f81-807d-308bcf2437f0",
   "metadata": {
    "tags": []
   },
   "outputs": [],
   "source": [
    "def metric2_(key, f1scores, relModelsTuple, refModelIndex, alphaValue):#f1scores for specific model for testing! not full matrix\n",
    "    avgF1Distance = np.full((len(relModelsTuple), len(model_names)), np.nan)\n",
    "    for i, modelIndex in enumerate(relModelsTuple):\n",
    "        for j, model in enumerate(model_names):\n",
    "            if j not in relModelsTuple:\n",
    "                val=abs(avg_f1_scores_models[key][alphaValue][refModelIndex][modelIndex]-avg_f1_scores_models[key][alphaValue][refModelIndex][j])\n",
    "                avgF1Distance[i][j]=val\n",
    "                                        \n",
    "    return avgF1Distance, np.nanmean(avgF1Distance)\n",
    "        \n",
    "    \n",
    "    "
   ]
  },
  {
   "cell_type": "code",
   "execution_count": 9,
   "id": "80390f6d-63f2-4109-8c04-fd8db8e940dd",
   "metadata": {
    "tags": []
   },
   "outputs": [],
   "source": [
    "def metric2(key, alphaValue):#f1scores for specific model for testing! not full matrix\n",
    "    avgF1DistanceFinal=[]\n",
    "    for refModelIndex, model in enumerate(model_names):\n",
    "        relModelsTuple=related_models[refModelIndex]\n",
    "        avgF1Distance = np.full((len(relModelsTuple), len(model_names)), np.nan)\n",
    "        for i, modelIndex in enumerate(relModelsTuple):\n",
    "            for j, model in enumerate(model_names):\n",
    "                if j not in relModelsTuple:\n",
    "                    val=abs(avg_f1_scores_models[key][alphaValue][refModelIndex][modelIndex]-avg_f1_scores_models[key][alphaValue][refModelIndex][j])\n",
    "                    avgF1Distance[i][j]=val\n",
    "        avgF1DistanceFinal.append(np.nanmean(avgF1Distance))\n",
    "    #print(key, np.nanmean(np.array(avgF1DistanceFinal)))\n",
    "    return None, np.nanmean(np.array(avgF1DistanceFinal))\n",
    "        \n",
    "    \n",
    "    "
   ]
  },
  {
   "cell_type": "code",
   "execution_count": 10,
   "id": "9d740d3f-fdc4-4f18-9e94-2940fe9a7c89",
   "metadata": {
    "tags": []
   },
   "outputs": [],
   "source": [
    "def plot_metric2_div_metric1(key):\n",
    "    # Gleichmäßig verteilte x-Werte erstellen\n",
    "    values=metric2_div_metric1[key]\n",
    "    x_values, y_values = zip(*values)\n",
    "    x_values=list(x_values)\n",
    "    y_values=list(y_values)\n",
    "    x_uniform = np.linspace(min(x_values), max(x_values), len(x_values))\n",
    "    labels=x_values\n",
    "\n",
    "    # Plot erstellen\n",
    "    plt.plot(x_uniform, y_values, marker='o', linestyle='-')\n",
    "\n",
    "    # Labels hinzufügen\n",
    "    for i, txt in enumerate(labels):\n",
    "        plt.annotate(txt, (x_uniform[i], y_values[i]), textcoords=\"offset points\", xytext=(0,10), ha='center')\n",
    "        \n",
    "    plotTitle='Nr. of components: ' + str(key[1]) + ', pc_alpha: ' + str(key[0]) + ', hash of selected_comps: ' + str(hash(str(key[2])))\n",
    "    plt.title(plotTitle)\n",
    "    plt.ylabel('F1-Score')\n",
    "    plt.figtext(0, 0, 'The resulting F1-Scores for N components, specific pc_alpha (see title) and different alpha_values vizualized')\n",
    "\n",
    "    plt.ylim(0, 2)\n",
    "    \n",
    "    # Plot anzeigen\n",
    "    plt.show()"
   ]
  },
  {
   "cell_type": "code",
   "execution_count": 11,
   "id": "f24249b8-0b2a-44d2-b83c-f07a52f0e247",
   "metadata": {
    "tags": []
   },
   "outputs": [],
   "source": [
    "metric1Mins={} #Mins for the metric1 mean values per (alphaValue, n_kept_comp)\n",
    "for key in f1Scores_:\n",
    "    metric1values=[]\n",
    "    f1_score_single=f1Scores_[key]\n",
    "    for key2 in f1_score_single:\n",
    "        metric1values.append(   (key2, np.mean((metric1(f1_score_single[key2]))))   )\n",
    "    metric1Mins[key]=min(metric1values, key = lambda t: t[1])\n",
    "\n",
    "        \n"
   ]
  },
  {
   "cell_type": "code",
   "execution_count": 12,
   "id": "bb96a8f9-6450-4817-b09b-55361f5d8dfd",
   "metadata": {},
   "outputs": [],
   "source": [
    "metric2Maxs={}\n",
    "for key in f1Scores_:\n",
    "    metric2values=[]\n",
    "    f1_score_single=f1Scores_[key]\n",
    "    for key2 in f1_score_single:\n",
    "        #metric2values.append((key2, metric2_(key, None, related_models[0], 6, key2)[1]))\n",
    "        metric2values.append((key2, metric2(key, key2)[1]))\n",
    "\n",
    "    metric2Maxs[key]=max(metric2values, key = lambda t: t[1])"
   ]
  },
  {
   "cell_type": "code",
   "execution_count": 13,
   "id": "bf717d4e-df35-4206-a78e-2949169ae531",
   "metadata": {
    "tags": []
   },
   "outputs": [],
   "source": [
    "metric2_div_metric1_maxs={}\n",
    "metric2_div_metric1={}\n",
    "for key in f1Scores_:\n",
    "    metric2divmetric1values=[]\n",
    "    f1_score_single=f1Scores_[key]\n",
    "    metric2_div_metric1.setdefault(key, [])\n",
    "    for key2 in f1_score_single:\n",
    "        m1=np.mean(metric1(f1_score_single[key2]))\n",
    "        #m2=metric2_(key, None, related_models[0], 6, key2)[1]\n",
    "        m2=metric2(key, key2)[1]\n",
    "        metric2divmetric1values.append((key2, m2/m1, m2, m1))\n",
    "        metric2_div_metric1[key].append((key2, m2/m1))\n",
    "    metric2_div_metric1_maxs[key]=max(metric2divmetric1values, key = lambda t: t[1])"
   ]
  },
  {
   "cell_type": "code",
   "execution_count": 14,
   "id": "b931d1fb-d299-4e75-bf7b-30679cce3e2c",
   "metadata": {},
   "outputs": [],
   "source": [
    "metric2_div_metric1_maxs_2={} #(comps, pc_alpha, alpha_value): F1-Score  wobei alpha_value für den max erreichten F1-Score gegeben ist\n",
    "for key in metric2_div_metric1_maxs:\n",
    "    pc_alpha=key[0]\n",
    "    comps=key[1]\n",
    "    sel_comps=key[2]\n",
    "    alpha_value=metric2_div_metric1_maxs[key][0]\n",
    "    metric2_div_metric1_maxs_2[(comps,pc_alpha,alpha_value,sel_comps)]=metric2_div_metric1_maxs[key][1]"
   ]
  },
  {
   "cell_type": "code",
   "execution_count": 15,
   "id": "f5ad634b-dc49-4dda-bf48-1086e63c1d5b",
   "metadata": {
    "tags": []
   },
   "outputs": [],
   "source": [
    "sorted_dict_komps = dict(sorted(metric2_div_metric1_maxs.items(), key=lambda x: x[0][0])) #sortiert nach comps, dann pc_alpha"
   ]
  },
  {
   "cell_type": "code",
   "execution_count": 16,
   "id": "70628d10-fda3-4b9a-b639-3b68363b1da0",
   "metadata": {
    "tags": []
   },
   "outputs": [
    {
     "data": {
      "text/plain": [
       "{(0.02, 50, 'range(0, 50)', (0, 0)): (0.0001,\n",
       "  2.6572420636018856,\n",
       "  0.6148989898192361,\n",
       "  0.23140495863810837),\n",
       " (0.02, 50, 'range(0, 50)', (0, 1)): (0.0001,\n",
       "  1.8452623560889798,\n",
       "  0.592321228116136,\n",
       "  0.32099567097415704),\n",
       " (0.02, 50, 'range(0, 50)', (0, 10)): (0.0001,\n",
       "  2.3561897358060224,\n",
       "  0.3449399033734814,\n",
       "  0.1463973372481745),\n",
       " (0.02, 50, 'range(0, 50)', (0, 11)): (0.0001,\n",
       "  2.5922802803028357,\n",
       "  0.33429798033138697,\n",
       "  0.1289590415324741),\n",
       " (0.02, 50, 'range(0, 50)', (0, 12)): (0.0001,\n",
       "  2.66796594703659,\n",
       "  0.3219314969194229,\n",
       "  0.12066551946699482),\n",
       " (0.02, 50, 'range(0, 50)', (0, 13)): (0.0001,\n",
       "  2.644538187938567,\n",
       "  0.3047456593328393,\n",
       "  0.11523587018812925),\n",
       " (0.02, 50, 'range(0, 50)', (0, 14)): (0.0001,\n",
       "  2.7773086500630533,\n",
       "  0.2971476214618084,\n",
       "  0.1069912130418282),\n",
       " (0.02, 50, 'range(0, 50)', (0, 15)): (0.0001,\n",
       "  2.7576431987758183,\n",
       "  0.28808722053875385,\n",
       "  0.1044686349077511),\n",
       " (0.02, 50, 'range(0, 50)', (0, 16)): (0.0001,\n",
       "  2.775226968868222,\n",
       "  0.28218412855409825,\n",
       "  0.1016796578152226),\n",
       " (0.02, 50, 'range(0, 50)', (0, 17)): (0.0001,\n",
       "  2.6590923045298216,\n",
       "  0.267751541090117,\n",
       "  0.10069283440593485),\n",
       " (0.02, 50, 'range(0, 50)', (0, 18)): (0.0001,\n",
       "  2.7155889307057346,\n",
       "  0.2622002220172632,\n",
       "  0.0965537232283245),\n",
       " (0.02, 50, 'range(0, 50)', (0, 2)): (0.0001,\n",
       "  1.9961134091603498,\n",
       "  0.49640679309360985,\n",
       "  0.24868666821010918),\n",
       " (0.02, 50, 'range(0, 50)', (0, 21)): (0.0001,\n",
       "  2.511178398276655,\n",
       "  0.23071866291417756,\n",
       "  0.09187665164391058),\n",
       " (0.02, 50, 'range(0, 50)', (0, 23)): (0.0001,\n",
       "  2.7586414565282102,\n",
       "  0.2078620585870179,\n",
       "  0.07534942900793468),\n",
       " (0.02, 50, 'range(0, 50)', (0, 27)): (0.0001,\n",
       "  2.74988634002898,\n",
       "  0.16152245626285172,\n",
       "  0.05873786632983147),\n",
       " (0.02, 50, 'range(0, 50)', (0, 3)): (0.0001,\n",
       "  1.882188859673814,\n",
       "  0.46470802615252144,\n",
       "  0.24689766054244736),\n",
       " (0.02, 50, 'range(0, 50)', (0, 30)): (0.0001,\n",
       "  2.74988634002898,\n",
       "  0.16152245626285172,\n",
       "  0.05873786632983147),\n",
       " (0.02, 50, 'range(0, 50)', (0, 31)): (0.0001,\n",
       "  2.74988634002898,\n",
       "  0.16152245626285172,\n",
       "  0.05873786632983147),\n",
       " (0.02, 50, 'range(0, 50)', (0, 32)): (0.0001,\n",
       "  2.74988634002898,\n",
       "  0.16152245626285172,\n",
       "  0.05873786632983147),\n",
       " (0.02, 50, 'range(0, 50)', (0, 34)): (0.0001,\n",
       "  2.74988634002898,\n",
       "  0.16152245626285172,\n",
       "  0.05873786632983147),\n",
       " (0.02, 50, 'range(0, 50)', (0, 6)): (0.0001,\n",
       "  2.060990398490619,\n",
       "  0.3816067967751399,\n",
       "  0.18515699881698255),\n",
       " (0.02, 50, 'range(0, 50)', (0, 9)): (0.0001,\n",
       "  2.3684741427983336,\n",
       "  0.351824122288085,\n",
       "  0.14854463298991627),\n",
       " (0.02, 50, 'range(0, 50)', (12, 14)): (0.0001,\n",
       "  1.0502861492332731,\n",
       "  0.20810325629790077,\n",
       "  0.1981395798181474),\n",
       " (0.02, 50, 'range(0, 50)', (12, 23)): (0.0001,\n",
       "  1.5237978093385138,\n",
       "  0.13301214917620865,\n",
       "  0.08728989394856114),\n",
       " (0.02, 50, 'range(0, 50)', (12, 27)): (0.0001,\n",
       "  1.534331137546318,\n",
       "  0.09310946506168648,\n",
       "  0.0606840745020569),\n",
       " (0.02, 50, 'range(0, 50)', (12, 30)): (0.0001,\n",
       "  1.534331137546318,\n",
       "  0.09310946506168648,\n",
       "  0.0606840745020569),\n",
       " (0.02, 50, 'range(0, 50)', (12, 31)): (0.0001,\n",
       "  1.534331137546318,\n",
       "  0.09310946506168648,\n",
       "  0.0606840745020569),\n",
       " (0.02, 50, 'range(0, 50)', (12, 32)): (0.0001,\n",
       "  1.534331137546318,\n",
       "  0.09310946506168648,\n",
       "  0.0606840745020569),\n",
       " (0.02, 50, 'range(0, 50)', (12, 33)): (0.0001,\n",
       "  1.534331137546318,\n",
       "  0.09310946506168648,\n",
       "  0.0606840745020569),\n",
       " (0.02, 50, 'range(0, 50)', (12, 34)): (0.0001,\n",
       "  1.534331137546318,\n",
       "  0.09310946506168648,\n",
       "  0.0606840745020569),\n",
       " (0.02, 50, 'range(0, 50)', (17, 23)): (0.0001,\n",
       "  1.292035287696011,\n",
       "  0.11460047743343939,\n",
       "  0.08869763738248802),\n",
       " (0.02, 50, 'range(0, 50)', (17, 27)): (0.0001,\n",
       "  1.3227263209671065,\n",
       "  0.07384021910386039,\n",
       "  0.05582426079634704),\n",
       " (0.02, 50, 'range(0, 50)', (17, 30)): (0.0001,\n",
       "  1.3227263209671065,\n",
       "  0.07384021910386039,\n",
       "  0.05582426079634704),\n",
       " (0.02, 50, 'range(0, 50)', (17, 31)): (0.0001,\n",
       "  1.3227263209671065,\n",
       "  0.07384021910386039,\n",
       "  0.05582426079634704),\n",
       " (0.02, 50, 'range(0, 50)', (17, 32)): (0.0001,\n",
       "  1.3227263209671065,\n",
       "  0.07384021910386039,\n",
       "  0.05582426079634704),\n",
       " (0.02, 50, 'range(0, 50)', (17, 33)): (0.0001,\n",
       "  1.3227263209671065,\n",
       "  0.07384021910386039,\n",
       "  0.05582426079634704),\n",
       " (0.02, 50, 'range(0, 50)', (17, 34)): (0.0001,\n",
       "  1.3227263209671065,\n",
       "  0.07384021910386039,\n",
       "  0.05582426079634704),\n",
       " (0.02, 50, 'range(0, 50)', (2, 10)): (0.0001,\n",
       "  2.227598372570433,\n",
       "  0.3303206138407624,\n",
       "  0.14828553383238663),\n",
       " (0.02, 50, 'range(0, 50)', (2, 11)): (0.0001,\n",
       "  2.464277587411977,\n",
       "  0.32090823891312376,\n",
       "  0.13022406264309966),\n",
       " (0.02, 50, 'range(0, 50)', (2, 12)): (0.0001,\n",
       "  2.5264855700176785,\n",
       "  0.30917998603443464,\n",
       "  0.12237552024976388),\n",
       " (0.02, 50, 'range(0, 50)', (2, 13)): (0.0001,\n",
       "  2.507217605432422,\n",
       "  0.29246025054321273,\n",
       "  0.11664733444338267),\n",
       " (0.02, 50, 'range(0, 50)', (2, 14)): (0.0001,\n",
       "  2.6334266865074025,\n",
       "  0.2853146281713399,\n",
       "  0.1083434863150643),\n",
       " (0.02, 50, 'range(0, 50)', (2, 23)): (0.0001,\n",
       "  2.629716458524629,\n",
       "  0.1992345761757965,\n",
       "  0.07576275971880812),\n",
       " (0.02, 50, 'range(0, 50)', (2, 27)): (0.0001,\n",
       "  2.6253285269783633,\n",
       "  0.1541471969842468,\n",
       "  0.05871539329276378),\n",
       " (0.02, 50, 'range(0, 50)', (2, 3)): (0.0001,\n",
       "  1.5180655736704989,\n",
       "  0.42937258625327035,\n",
       "  0.2828419231028996),\n",
       " (0.02, 50, 'range(0, 50)', (2, 30)): (0.0001,\n",
       "  2.6253285269783633,\n",
       "  0.1541471969842468,\n",
       "  0.05871539329276378),\n",
       " (0.02, 50, 'range(0, 50)', (2, 32)): (0.0001,\n",
       "  2.6253285269783633,\n",
       "  0.1541471969842468,\n",
       "  0.05871539329276378),\n",
       " (0.02, 50, 'range(0, 50)', (2, 33)): (0.0001,\n",
       "  2.6253285269783633,\n",
       "  0.1541471969842468,\n",
       "  0.05871539329276378),\n",
       " (0.02, 50, 'range(0, 50)', (2, 34)): (0.0001,\n",
       "  2.6253285269783633,\n",
       "  0.1541471969842468,\n",
       "  0.05871539329276378),\n",
       " (0.02, 50, 'range(0, 50)', (2, 6)): (0.0001,\n",
       "  1.8245098924331256,\n",
       "  0.3578325351433074,\n",
       "  0.196125291853644),\n",
       " (0.02, 50, 'range(0, 50)', (5, 10)): (0.0001,\n",
       "  1.7710642450926017,\n",
       "  0.31158620750461935,\n",
       "  0.17593162324178013),\n",
       " (0.02, 50, 'range(0, 50)', (5, 11)): (0.0001,\n",
       "  1.986806294041774,\n",
       "  0.30288260017150065,\n",
       "  0.15244697033616925),\n",
       " (0.02, 50, 'range(0, 50)', (5, 12)): (0.0001,\n",
       "  2.0680345149284936,\n",
       "  0.2909205391745529,\n",
       "  0.14067489544999787),\n",
       " (0.02, 50, 'range(0, 50)', (5, 13)): (0.0001,\n",
       "  2.0512395209552765,\n",
       "  0.2733479361472953,\n",
       "  0.13325988182013734),\n",
       " (0.02, 50, 'range(0, 50)', (5, 14)): (0.0001,\n",
       "  2.1900164873012065,\n",
       "  0.26661632259768714,\n",
       "  0.12174169653226806),\n",
       " (0.02, 50, 'range(0, 50)', (5, 23)): (0.0001,\n",
       "  2.332096657181041,\n",
       "  0.1834187568304733,\n",
       "  0.07864972331472042),\n",
       " (0.02, 50, 'range(0, 50)', (5, 27)): (0.0001,\n",
       "  2.3436964660103063,\n",
       "  0.1396631693482149,\n",
       "  0.059590980049547396),\n",
       " (0.02, 50, 'range(0, 50)', (5, 30)): (0.0001,\n",
       "  2.3436964660103063,\n",
       "  0.1396631693482149,\n",
       "  0.059590980049547396),\n",
       " (0.02, 50, 'range(0, 50)', (5, 31)): (0.0001,\n",
       "  2.3436964660103063,\n",
       "  0.1396631693482149,\n",
       "  0.059590980049547396),\n",
       " (0.02, 50, 'range(0, 50)', (5, 32)): (0.0001,\n",
       "  2.3436964660103063,\n",
       "  0.1396631693482149,\n",
       "  0.059590980049547396),\n",
       " (0.02, 50, 'range(0, 50)', (5, 33)): (0.0001,\n",
       "  2.3436964660103063,\n",
       "  0.1396631693482149,\n",
       "  0.059590980049547396),\n",
       " (0.02, 50, 'range(0, 50)', (5, 34)): (0.0001,\n",
       "  2.3436964660103063,\n",
       "  0.1396631693482149,\n",
       "  0.059590980049547396),\n",
       " (0.02, 50, 'range(0, 50)', (5, 6)): (0.0001,\n",
       "  1.139602493665768,\n",
       "  0.3249913990273761,\n",
       "  0.2851796137984691),\n",
       " (0.02, 50, 'range(0, 50)', (8, 10)): (0.0001,\n",
       "  1.3219650603537283,\n",
       "  0.29981758542970344,\n",
       "  0.22679690592539484),\n",
       " (0.02, 50, 'range(0, 50)', (8, 11)): (0.0001,\n",
       "  1.488619133418356,\n",
       "  0.28806228914573695,\n",
       "  0.1935097317231519),\n",
       " (0.02, 50, 'range(0, 50)', (8, 12)): (0.0001,\n",
       "  1.6032729638906058,\n",
       "  0.27585434066627346,\n",
       "  0.17205700269333268),\n",
       " (0.02, 50, 'range(0, 50)', (8, 13)): (0.0001,\n",
       "  1.6320016130780086,\n",
       "  0.25417866590538274,\n",
       "  0.15574657761887467),\n",
       " (0.02, 50, 'range(0, 50)', (8, 14)): (0.0001,\n",
       "  1.7410745172709452,\n",
       "  0.24737830756248194,\n",
       "  0.14208369895059755),\n",
       " (0.02, 50, 'range(0, 50)', (8, 23)): (0.0001,\n",
       "  1.97267325028652,\n",
       "  0.16333164263384004,\n",
       "  0.08279710925776329),\n",
       " (0.02, 50, 'range(0, 50)', (8, 27)): (0.0001,\n",
       "  1.9903815817428203,\n",
       "  0.12078097555477138,\n",
       "  0.06068232175310475),\n",
       " (0.02, 50, 'range(0, 50)', (8, 30)): (0.0001,\n",
       "  1.9903815817428203,\n",
       "  0.12078097555477138,\n",
       "  0.06068232175310475),\n",
       " (0.02, 50, 'range(0, 50)', (8, 31)): (0.0001,\n",
       "  1.9903815817428203,\n",
       "  0.12078097555477138,\n",
       "  0.06068232175310475),\n",
       " (0.02, 50, 'range(0, 50)', (8, 32)): (0.0001,\n",
       "  1.9903815817428203,\n",
       "  0.12078097555477138,\n",
       "  0.06068232175310475),\n",
       " (0.02, 50, 'range(0, 50)', (8, 33)): (0.0001,\n",
       "  1.9903815817428203,\n",
       "  0.12078097555477138,\n",
       "  0.06068232175310475),\n",
       " (0.02, 50, 'range(0, 50)', (8, 34)): (0.0001,\n",
       "  1.9903815817428203,\n",
       "  0.12078097555477138,\n",
       "  0.06068232175310475)}"
      ]
     },
     "execution_count": 16,
     "metadata": {},
     "output_type": "execute_result"
    }
   ],
   "source": [
    "sorted_dict_komps"
   ]
  },
  {
   "cell_type": "markdown",
   "id": "d63ab661-ff4a-43f0-995f-03fa42565090",
   "metadata": {},
   "source": [
    "## Visualizations"
   ]
  },
  {
   "cell_type": "code",
   "execution_count": 17,
   "id": "3cb1bc77-7ada-4d38-b8fe-54def941754a",
   "metadata": {
    "tags": []
   },
   "outputs": [],
   "source": [
    "toPlot=[]\n",
    "for key in metric2_div_metric1_maxs:\n",
    "    under,upper=key[3]\n",
    "    metricScore=metric2_div_metric1_maxs[key][1]\n",
    "    toPlot.append((under, upper, metricScore))"
   ]
  },
  {
   "cell_type": "code",
   "execution_count": 18,
   "id": "f0d0e841-e7eb-4858-9732-366217ad883e",
   "metadata": {
    "tags": []
   },
   "outputs": [
    {
     "data": {
      "image/png": "[encoded data removed]",
      "text/plain": [
       "<Figure size 640x480 with 1 Axes>"
      ]
     },
     "metadata": {},
     "output_type": "display_data"
    }
   ],
   "source": [
    "filtered_data0 = [(tup[1], tup[2]) for tup in toPlot if tup[0] == 0]\n",
    "filtered_data0 = sorted(filtered_data0, key=lambda x: x[0])\n",
    "x_values, y_values = zip(*filtered_data0)\n",
    "\n",
    "# Plot erstellen\n",
    "plt.plot(x_values, y_values, marker='o', linestyle='-')\n",
    "plt.xlabel('treshold (0,x)')\n",
    "plt.ylabel('metricScore(m2/m1)')\n",
    "plt.title('metricScore vs. threshold (0,_)')\n",
    "plt.show()                   "
   ]
  },
  {
   "cell_type": "code",
   "execution_count": 19,
   "id": "67f4c057-0f56-4300-9169-1cd866431e12",
   "metadata": {
    "tags": []
   },
   "outputs": [
    {
     "data": {
      "image/png": "[encoded data removed]",
      "text/plain": [
       "<Figure size 640x480 with 1 Axes>"
      ]
     },
     "metadata": {},
     "output_type": "display_data"
    }
   ],
   "source": [
    "filtered_data2 = [(tup[1], tup[2]) for tup in toPlot if tup[0] == 2]\n",
    "filtered_data2 = sorted(filtered_data2, key=lambda x: x[0])\n",
    "x_values, y_values = zip(*filtered_data2)\n",
    "\n",
    "# Plot erstellen\n",
    "plt.plot(x_values, y_values, marker='o', linestyle='-')\n",
    "plt.xlabel('treshold (2,x)')\n",
    "plt.ylabel('metricScore')\n",
    "plt.title('metricScore vs. treshold (2,_)')\n",
    "plt.show()"
   ]
  },
  {
   "cell_type": "code",
   "execution_count": 20,
   "id": "93bef33a-b5d8-46f2-94d2-6aa0b72e4949",
   "metadata": {
    "tags": []
   },
   "outputs": [
    {
     "data": {
      "image/png": "[encoded data removed]",
      "text/plain": [
       "<Figure size 640x480 with 1 Axes>"
      ]
     },
     "metadata": {},
     "output_type": "display_data"
    }
   ],
   "source": [
    "filtered_data5 = [(tup[1], tup[2]) for tup in toPlot if tup[0] == 5]\n",
    "filtered_data5 = sorted(filtered_data5, key=lambda x: x[0])\n",
    "x_values, y_values = zip(*filtered_data5)\n",
    "\n",
    "# Plot erstellen\n",
    "plt.plot(x_values, y_values, marker='o', linestyle='-')\n",
    "plt.xlabel('treshold (5,x)')\n",
    "plt.ylabel('metricScore')\n",
    "plt.title('metricScore vs. treshold (5,_)')\n",
    "plt.show()"
   ]
  },
  {
   "cell_type": "code",
   "execution_count": 21,
   "id": "45f79272-107e-4334-84f3-81732a0b32f9",
   "metadata": {
    "tags": []
   },
   "outputs": [
    {
     "data": {
      "image/png": "[encoded data removed]",
      "text/plain": [
       "<Figure size 640x480 with 1 Axes>"
      ]
     },
     "metadata": {},
     "output_type": "display_data"
    }
   ],
   "source": [
    "filtered_data8 = [(tup[1], tup[2]) for tup in toPlot if tup[0] == 8]\n",
    "filtered_data8 = sorted(filtered_data8, key=lambda x: x[0])\n",
    "x_values, y_values = zip(*filtered_data8)\n",
    "\n",
    "# Plot erstellen\n",
    "plt.plot(x_values, y_values, marker='o', linestyle='-')\n",
    "plt.xlabel('treshold (8,x)')\n",
    "plt.ylabel('metricScore')\n",
    "plt.title('metricScore vs. treshold (8,_)')\n",
    "plt.show()"
   ]
  },
  {
   "cell_type": "code",
   "execution_count": null,
   "id": "e5092307-77fc-4f65-bb29-3df749349395",
   "metadata": {
    "tags": []
   },
   "outputs": [],
   "source": [
    "import matplotlib.pyplot as plt\n",
    "from mpl_toolkits.mplot3d import Axes3D\n",
    "data=toPlot\n",
    "x1_values = [entry[0] for entry in data]\n",
    "x2_values = [entry[1] for entry in data]\n",
    "x3_values = [entry[2] for entry in data]\n",
    "\n",
    "# Erstelle den 3D-Plot\n",
    "fig = plt.figure()\n",
    "ax = fig.add_subplot(111, projection='3d')\n",
    "\n",
    "# Punkte plotten\n",
    "ax.scatter(x1_values, x2_values, x3_values, c='r', marker='o')\n",
    "\n",
    "# Verbinde die Punkte durch Flächen\n",
    "ax.plot_trisurf(x1_values, x2_values, x3_values, color='b', alpha=0.5)\n",
    "\n",
    "# Beschriftungen der Achsen\n",
    "ax.set_xlabel('underThreshold')\n",
    "ax.set_ylabel('upperThreshold')\n",
    "ax.set_zlabel('metric-score')\n",
    "\n",
    "plt.show()"
   ]
  }
 ],
 "metadata": {
  "kernelspec": {
   "display_name": "Python 3 (ipykernel)",
   "language": "python",
   "name": "python3"
  },
  "language_info": {
   "codemirror_mode": {
    "name": "ipython",
    "version": 3
   },
   "file_extension": ".py",
   "mimetype": "text/x-python",
   "name": "python",
   "nbconvert_exporter": "python",
   "pygments_lexer": "ipython3",
   "version": "3.10.13"
  }
 },
 "nbformat": 4,
 "nbformat_minor": 5
}
