{
 "cells": [
  {
   "cell_type": "code",
   "execution_count": 1,
   "id": "93c0fe41-0e43-433e-81e9-73ed1be83044",
   "metadata": {
    "tags": []
   },
   "outputs": [],
   "source": [
    "import glob\n",
    "import os\n",
    "import subprocess\n",
    "import pickle as cPickle\n",
    "import ast\n",
    "import matplotlib\n",
    "from matplotlib import pyplot as plt\n",
    "import matplotlib.image as mpimg\n",
    "%matplotlib inline\n",
    "import pickle\n",
    "## use `%matplotlib notebook` for interactive figures\n",
    "# plt.style.use('ggplot')\n",
    "import numpy as np\n",
    "import sklearn\n",
    "import tigramite\n",
    "from tigramite import data_processing as pp\n",
    "from tigramite import plotting as tp\n",
    "from tigramite.pcmci import PCMCI\n",
    "from tigramite.independence_tests.parcorr import ParCorr\n",
    "import pandas as pd\n",
    "import seaborn as sns\n",
    "import re"
   ]
  },
  {
   "cell_type": "markdown",
   "id": "421f2ca7-daee-4e27-a909-b52555d92219",
   "metadata": {},
   "source": [
    "# Setup"
   ]
  },
  {
   "cell_type": "code",
   "execution_count": 2,
   "id": "5c06848c-d533-4219-8dd7-8fc596a739b9",
   "metadata": {
    "tags": []
   },
   "outputs": [],
   "source": [
    "#path depending on timebin\n",
    "pca_res_path=\"./c-transfer\"\n",
    "pcmci_res_path=\"./output\"\n",
    "f1_scores_path=\"./output_f1-scores_lag1/time\"\n",
    "model_names=['ACCESS-CM2', 'BCC-CSM2-MR', 'CanESM5', 'CESM2', 'CNRM-CM6-1', 'EC-Earth3', 'HadGEM3-GC31-LL', 'IPSL-CM6A-LR', 'MIROC-ES2L',\n",
    "             'MPI-ESM1-2-HR', 'UKESM1-0-LL']\n"
   ]
  },
  {
   "cell_type": "code",
   "execution_count": 3,
   "id": "b01d9a22-0793-466d-b18d-16229acaaf0d",
   "metadata": {
    "tags": []
   },
   "outputs": [],
   "source": [
    "related_models=[] #wie am besten machen, falls überhaupt so? Hier mal als Äquivalenzklassen\n",
    "related_models.append((0, 6, 10))\n",
    "related_models.append((1,))\n",
    "related_models.append((2,))\n",
    "related_models.append((3,))\n",
    "related_models.append((4,))\n",
    "related_models.append((5,))\n",
    "related_models.append((0, 6, 10))\n",
    "related_models.append((7,))\n",
    "related_models.append((8,))\n",
    "related_models.append((9,))\n",
    "related_models.append((0, 6, 10))"
   ]
  },
  {
   "cell_type": "code",
   "execution_count": 4,
   "id": "5c37c5e6-0126-4134-8cf4-aec82ff17642",
   "metadata": {
    "tags": []
   },
   "outputs": [],
   "source": [
    "f1Scores={}\n",
    "for file in os.listdir(f1_scores_path):\n",
    "    match = re.search(r\"time=([0-9.]+)\", file)\n",
    "    if match:\n",
    "        time_value = float(match.group(1))\n",
    "    else:\n",
    "        print(\"no time found\")\n",
    "    f1_scores_single_path=os.path.join(f1_scores_path, file)\n",
    "    f1_scores_single=pickle.load(open(f1_scores_single_path,\"rb\"))\n",
    "    pc_alpha=f1_scores_single['pc_alpha']\n",
    "    n_kept_comp=f1_scores_single['n_kept_comp']\n",
    "    f1Scores[(pc_alpha, n_kept_comp, time_value)]=f1_scores_single['f1Scores']    "
   ]
  },
  {
   "cell_type": "code",
   "execution_count": 5,
   "id": "715cba6c-c818-43cd-8509-2af148cd235a",
   "metadata": {
    "tags": []
   },
   "outputs": [],
   "source": [
    "f1Scores_={} #f1Scores sortiert bzw. die einträge der keys sortiert nach alpha_value\n",
    "for key in f1Scores:\n",
    "    scores=f1Scores[key]\n",
    "    tempList={}\n",
    "    for element in scores:\n",
    "        for key2 in element:\n",
    "            tempList[key2]=element[key2]\n",
    "    sorted_dict = dict(sorted(tempList.items()))\n",
    "    f1Scores_[key]=sorted_dict\n",
    "    "
   ]
  },
  {
   "cell_type": "markdown",
   "id": "efa24802-f48c-4f50-a187-9ba991c90311",
   "metadata": {},
   "source": [
    "## Auswertung"
   ]
  },
  {
   "cell_type": "code",
   "execution_count": 6,
   "id": "c1bb9d2a-9c23-4f99-bcb6-f0fa4f297fbd",
   "metadata": {
    "tags": []
   },
   "outputs": [],
   "source": [
    "avg_f1_scores_models={} #avg F1-Score for each refModel F1-Matrix\n",
    "for key in f1Scores_:\n",
    "    scores=f1Scores_[key]\n",
    "    avg_f1_scores_models.setdefault(key, {})\n",
    "    for key2 in scores:\n",
    "        avg_f1_scores_models[key][key2]=np.nanmean(scores[key2], axis=(2, 3)) #also avg f1 score für key1=pc_alpha und key2=refDataSet"
   ]
  },
  {
   "cell_type": "code",
   "execution_count": 7,
   "id": "74e7a20b-1649-4f8b-8973-2d02236738ec",
   "metadata": {
    "tags": []
   },
   "outputs": [],
   "source": [
    "#metric1 for all refDatasets. Returns average f1-score-metric1-distance for all refDatasets\n",
    "def metric1(f1scores): #f14d matrix\n",
    "    result=[]\n",
    "    for i,refDataset in enumerate(f1scores):\n",
    "        scores=f1scores[i]\n",
    "        min_scores=[]\n",
    "        max_scores=[]\n",
    "        for element in scores:\n",
    "            arr=np.array(element)\n",
    "            min_scores.append(np.nanmin(arr))\n",
    "            max_scores.append(np.nanmax(arr))\n",
    "        result.append(np.mean(np.subtract(max_scores, min_scores)))\n",
    "    return result"
   ]
  },
  {
   "cell_type": "code",
   "execution_count": 8,
   "id": "5fef4d8f-f554-4f81-807d-308bcf2437f0",
   "metadata": {
    "tags": []
   },
   "outputs": [],
   "source": [
    "def metric2_(key, f1scores, relModelsTuple, refModelIndex, alphaValue):#f1scores for specific model for testing! not full matrix\n",
    "    avgF1Distance = np.full((len(relModelsTuple), len(model_names)), np.nan)\n",
    "    for i, modelIndex in enumerate(relModelsTuple):\n",
    "        for j, model in enumerate(model_names):\n",
    "            if j not in relModelsTuple:\n",
    "                val=abs(avg_f1_scores_models[key][alphaValue][refModelIndex][modelIndex]-avg_f1_scores_models[key][alphaValue][refModelIndex][j])\n",
    "                avgF1Distance[i][j]=val\n",
    "                                        \n",
    "    return avgF1Distance, np.nanmean(avgF1Distance)\n",
    "        \n",
    "    \n",
    "    "
   ]
  },
  {
   "cell_type": "code",
   "execution_count": 9,
   "id": "44891515-3eb2-414d-85f3-cff93e63a523",
   "metadata": {
    "tags": []
   },
   "outputs": [],
   "source": [
    "def metric2(key, alphaValue):#f1scores for specific model for testing! not full matrix\n",
    "    avgF1DistanceFinal=[]\n",
    "    for refModelIndex, model in enumerate(model_names):\n",
    "        relModelsTuple=related_models[refModelIndex]\n",
    "        avgF1Distance = np.full((len(relModelsTuple), len(model_names)), np.nan)\n",
    "        for i, modelIndex in enumerate(relModelsTuple):\n",
    "            for j, model in enumerate(model_names):\n",
    "                if j not in relModelsTuple:\n",
    "                    val=abs(avg_f1_scores_models[key][alphaValue][refModelIndex][modelIndex]-avg_f1_scores_models[key][alphaValue][refModelIndex][j])\n",
    "                    avgF1Distance[i][j]=val\n",
    "        avgF1DistanceFinal.append(np.nanmean(avgF1Distance))\n",
    "    #print(key, np.nanmean(np.array(avgF1DistanceFinal)))\n",
    "    return np.array(avgF1DistanceFinal), np.nanmean(np.array(avgF1DistanceFinal))\n",
    "        \n",
    "    \n",
    "    "
   ]
  },
  {
   "cell_type": "code",
   "execution_count": 10,
   "id": "9d740d3f-fdc4-4f18-9e94-2940fe9a7c89",
   "metadata": {
    "tags": []
   },
   "outputs": [],
   "source": [
    "def plot_metric2_div_metric1(key):\n",
    "    # Gleichmäßig verteilte x-Werte erstellen\n",
    "    values=metric2_div_metric1[key]\n",
    "    x_values, y_values = zip(*values)\n",
    "    x_values=list(x_values)\n",
    "    \n",
    "    for element in x_values:\n",
    "        element=np.log10(element)\n",
    "        \n",
    "    y_values=list(y_values)\n",
    "    x_uniform = np.linspace(min(x_values), max(x_values), len(x_values))\n",
    "    labels=x_values\n",
    "\n",
    "    # Plot erstellen\n",
    "    plt.plot(x_uniform, y_values, marker='o', linestyle='-')\n",
    "\n",
    "    # Labels hinzufügen\n",
    "    for i, txt in enumerate(labels):\n",
    "        plt.annotate(txt, (x_uniform[i], y_values[i]), textcoords=\"offset points\", xytext=(0,10), ha='center')\n",
    "        \n",
    "    plotTitle='Nr. of components: ' + str(key[1]) + ', pc_alpha: ' + str(key[0])\n",
    "    plt.title(plotTitle)\n",
    "    plt.ylabel('F1-Score')\n",
    "    plt.figtext(0, 0, 'The resulting M2/M1 for N components, specific pc_alpha (see title) and different alpha_values vizualized')\n",
    "\n",
    "    plt.ylim(0, 3)\n",
    "    \n",
    "    # Plot anzeigen\n",
    "    plt.show()"
   ]
  },
  {
   "cell_type": "code",
   "execution_count": 11,
   "id": "f24249b8-0b2a-44d2-b83c-f07a52f0e247",
   "metadata": {
    "tags": []
   },
   "outputs": [],
   "source": [
    "metric1Mins={} #Mins for the metric1 mean values per (alphaValue, n_kept_comp)\n",
    "for key in f1Scores_:\n",
    "    metric1values=[]\n",
    "    f1_score_single=f1Scores_[key] \n",
    "    for key2 in f1_score_single:\n",
    "        metric1values.append(   (key2, np.mean((metric1(f1_score_single[key2]))))   )\n",
    "        if key[1]==100 and key2==0.0005:\n",
    "            metric1_vs_pcAlpha.append((key[0], np.mean((metric1(f1_score_single[key2])))))\n",
    "    metric1Mins[key]=min(metric1values, key = lambda t: t[1])\n",
    "\n",
    "        \n"
   ]
  },
  {
   "cell_type": "code",
   "execution_count": 12,
   "id": "bb96a8f9-6450-4817-b09b-55361f5d8dfd",
   "metadata": {},
   "outputs": [],
   "source": [
    "metric2Maxs={}\n",
    "for key in f1Scores_:\n",
    "    metric2values=[]\n",
    "    f1_score_single=f1Scores_[key]\n",
    "    for key2 in f1_score_single:\n",
    "        #metric2values.append((key2, metric2_(key, None, related_models[0], 6, key2)[1]))\n",
    "        metric2values.append((key2, metric2(key, key2)[1]))\n",
    "        if key[1]==100 and key2==0.0005:\n",
    "            metric2_vs_pcAlpha.append((key[0], metric2(key, key2)[1]))\n",
    "    metric2Maxs[key]=max(metric2values, key = lambda t: t[1])"
   ]
  },
  {
   "cell_type": "code",
   "execution_count": 13,
   "id": "bf717d4e-df35-4206-a78e-2949169ae531",
   "metadata": {
    "tags": []
   },
   "outputs": [
    {
     "name": "stderr",
     "output_type": "stream",
     "text": [
      "/tmp/ipykernel_2482/1632574356.py:11: RuntimeWarning: invalid value encountered in double_scalars\n",
      "  metric2divmetric1values.append((key2, m2/m1, m2, m1))\n",
      "/tmp/ipykernel_2482/1632574356.py:12: RuntimeWarning: invalid value encountered in double_scalars\n",
      "  metric2_div_metric1[key].append((key2, m2/m1))\n"
     ]
    }
   ],
   "source": [
    "metric2_div_metric1_maxs={}\n",
    "metric2_div_metric1={}\n",
    "for key in f1Scores_:\n",
    "    metric2divmetric1values=[]\n",
    "    f1_score_single=f1Scores_[key]\n",
    "    metric2_div_metric1.setdefault(key, [])\n",
    "    for key2 in f1_score_single:\n",
    "        m1=np.mean(metric1(f1_score_single[key2]))\n",
    "        #m2=metric2_(key, None, related_models[0], 6, key2)[1]\n",
    "        m2=metric2(key, key2)[1]\n",
    "        metric2divmetric1values.append((key2, m2/m1, m2, m1))\n",
    "        metric2_div_metric1[key].append((key2, m2/m1))\n",
    "    metric2_div_metric1_maxs[key]=max(metric2divmetric1values, key = lambda t: t[1])"
   ]
  },
  {
   "cell_type": "code",
   "execution_count": 14,
   "id": "b931d1fb-d299-4e75-bf7b-30679cce3e2c",
   "metadata": {},
   "outputs": [],
   "source": [
    "metric2_div_metric1_maxs_2={} #(comps, pc_alpha, alpha_value): F1-Score  wobei alpha_value für den max erreichten F1-Score gegeben ist\n",
    "for key in metric2_div_metric1_maxs:\n",
    "    pc_alpha=key[0]\n",
    "    comps=key[1]\n",
    "    time=key[2]\n",
    "    alpha_value=metric2_div_metric1_maxs[key][0]\n",
    "    metric2_div_metric1_maxs_2[(comps,pc_alpha,alpha_value,time)]=metric2_div_metric1_maxs[key]"
   ]
  },
  {
   "cell_type": "code",
   "execution_count": 15,
   "id": "f5ad634b-dc49-4dda-bf48-1086e63c1d5b",
   "metadata": {
    "tags": []
   },
   "outputs": [],
   "source": [
    "sorted_dict_komps = dict(sorted(metric2_div_metric1_maxs_2.items(), key=lambda x: x[0][0])) #sortiert nach comps, dann pc_alpha"
   ]
  },
  {
   "cell_type": "code",
   "execution_count": 16,
   "id": "334cc741-3075-4618-9507-7cef085587c0",
   "metadata": {
    "tags": []
   },
   "outputs": [],
   "source": [
    "temp = sorted(sorted_dict_komps.items(), key=lambda x: x[1][1])"
   ]
  },
  {
   "cell_type": "markdown",
   "id": "d55e5221-dcdf-4512-b49a-9d783fcdbecc",
   "metadata": {},
   "source": [
    "# Visualization"
   ]
  },
  {
   "cell_type": "code",
   "execution_count": 17,
   "id": "b42b7c3e-b6e5-4e0a-af2a-703e9807266e",
   "metadata": {
    "tags": []
   },
   "outputs": [
    {
     "data": {
      "image/png": "[encoded data removed]",
      "text/plain": [
       "<Figure size 1000x600 with 1 Axes>"
      ]
     },
     "metadata": {},
     "output_type": "display_data"
    }
   ],
   "source": [
    "sorted_data = sorted(temp, key=lambda x: x[0][3])\n",
    "x_values = [entry[0][3] for entry in sorted_data]\n",
    "y_values = [entry[1][1] for entry in sorted_data]\n",
    "# Plot\n",
    "plt.figure(figsize=(10, 6))\n",
    "plt.plot(x_values, y_values, marker='o', linestyle='-')\n",
    "plt.xlabel('number of days from start')\n",
    "plt.ylabel('M2/M1')\n",
    "plt.grid(True)\n",
    "plt.title('number of days from start vs M2/M1')\n",
    "#plt.savefig('./BilderBA/timeanalysis_moreData_lag1_100comp_pcalpha-32.pdf')\n",
    "\n",
    "plt.show()"
   ]
  }
 ],
 "metadata": {
  "kernelspec": {
   "display_name": "Python 3 (ipykernel)",
   "language": "python",
   "name": "python3"
  },
  "language_info": {
   "codemirror_mode": {
    "name": "ipython",
    "version": 3
   },
   "file_extension": ".py",
   "mimetype": "text/x-python",
   "name": "python",
   "nbconvert_exporter": "python",
   "pygments_lexer": "ipython3",
   "version": "3.10.13"
  }
 },
 "nbformat": 4,
 "nbformat_minor": 5
}
